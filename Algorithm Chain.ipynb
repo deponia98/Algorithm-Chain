{
 "cells": [
  {
   "cell_type": "markdown",
   "metadata": {},
   "source": [
    "### Import Libraries and Dataset"
   ]
  },
  {
   "cell_type": "code",
   "execution_count": 1,
   "metadata": {
    "ExecuteTime": {
     "end_time": "2021-07-15T06:46:08.241404Z",
     "start_time": "2021-07-15T06:46:06.424386Z"
    }
   },
   "outputs": [],
   "source": [
    "import numpy as np\n",
    "import pandas as pd \n",
    "import matplotlib.pyplot as plt\n",
    "import seaborn as sns\n",
    "\n",
    "from sklearn.model_selection import train_test_split\n",
    "from sklearn.linear_model import LogisticRegression\n",
    "from sklearn.tree import DecisionTreeClassifier\n",
    "from sklearn.neighbors import KNeighborsClassifier"
   ]
  },
  {
   "cell_type": "code",
   "execution_count": 18,
   "metadata": {
    "ExecuteTime": {
     "end_time": "2021-07-15T06:48:36.065510Z",
     "start_time": "2021-07-15T06:48:36.004688Z"
    }
   },
   "outputs": [
    {
     "data": {
      "text/html": [
       "<div>\n",
       "<style scoped>\n",
       "    .dataframe tbody tr th:only-of-type {\n",
       "        vertical-align: middle;\n",
       "    }\n",
       "\n",
       "    .dataframe tbody tr th {\n",
       "        vertical-align: top;\n",
       "    }\n",
       "\n",
       "    .dataframe thead th {\n",
       "        text-align: right;\n",
       "    }\n",
       "</style>\n",
       "<table border=\"1\" class=\"dataframe\">\n",
       "  <thead>\n",
       "    <tr style=\"text-align: right;\">\n",
       "      <th></th>\n",
       "      <th>sex</th>\n",
       "      <th>age</th>\n",
       "      <th>parch</th>\n",
       "      <th>fare</th>\n",
       "      <th>class</th>\n",
       "      <th>deck</th>\n",
       "      <th>embark_town</th>\n",
       "      <th>alive</th>\n",
       "      <th>alone</th>\n",
       "    </tr>\n",
       "  </thead>\n",
       "  <tbody>\n",
       "    <tr>\n",
       "      <th>0</th>\n",
       "      <td>male</td>\n",
       "      <td>22.0</td>\n",
       "      <td>0</td>\n",
       "      <td>7.2500</td>\n",
       "      <td>Third</td>\n",
       "      <td>NaN</td>\n",
       "      <td>Southampton</td>\n",
       "      <td>no</td>\n",
       "      <td>False</td>\n",
       "    </tr>\n",
       "    <tr>\n",
       "      <th>1</th>\n",
       "      <td>female</td>\n",
       "      <td>38.0</td>\n",
       "      <td>0</td>\n",
       "      <td>71.2833</td>\n",
       "      <td>First</td>\n",
       "      <td>C</td>\n",
       "      <td>Cherbourg</td>\n",
       "      <td>yes</td>\n",
       "      <td>False</td>\n",
       "    </tr>\n",
       "    <tr>\n",
       "      <th>2</th>\n",
       "      <td>female</td>\n",
       "      <td>26.0</td>\n",
       "      <td>0</td>\n",
       "      <td>7.9250</td>\n",
       "      <td>Third</td>\n",
       "      <td>NaN</td>\n",
       "      <td>Southampton</td>\n",
       "      <td>yes</td>\n",
       "      <td>True</td>\n",
       "    </tr>\n",
       "    <tr>\n",
       "      <th>3</th>\n",
       "      <td>female</td>\n",
       "      <td>35.0</td>\n",
       "      <td>0</td>\n",
       "      <td>53.1000</td>\n",
       "      <td>First</td>\n",
       "      <td>C</td>\n",
       "      <td>Southampton</td>\n",
       "      <td>yes</td>\n",
       "      <td>False</td>\n",
       "    </tr>\n",
       "    <tr>\n",
       "      <th>4</th>\n",
       "      <td>male</td>\n",
       "      <td>35.0</td>\n",
       "      <td>0</td>\n",
       "      <td>8.0500</td>\n",
       "      <td>Third</td>\n",
       "      <td>NaN</td>\n",
       "      <td>Southampton</td>\n",
       "      <td>no</td>\n",
       "      <td>True</td>\n",
       "    </tr>\n",
       "  </tbody>\n",
       "</table>\n",
       "</div>"
      ],
      "text/plain": [
       "      sex   age  parch     fare  class deck  embark_town alive  alone\n",
       "0    male  22.0      0   7.2500  Third  NaN  Southampton    no  False\n",
       "1  female  38.0      0  71.2833  First    C    Cherbourg   yes  False\n",
       "2  female  26.0      0   7.9250  Third  NaN  Southampton   yes   True\n",
       "3  female  35.0      0  53.1000  First    C  Southampton   yes  False\n",
       "4    male  35.0      0   8.0500  Third  NaN  Southampton    no   True"
      ]
     },
     "execution_count": 18,
     "metadata": {},
     "output_type": "execute_result"
    }
   ],
   "source": [
    "df = pd.read_csv('titanic.csv')\n",
    "df.head()"
   ]
  },
  {
   "cell_type": "code",
   "execution_count": 3,
   "metadata": {
    "ExecuteTime": {
     "end_time": "2021-07-15T06:46:08.289240Z",
     "start_time": "2021-07-15T06:46:08.277270Z"
    }
   },
   "outputs": [
    {
     "data": {
      "text/plain": [
       "sex              0\n",
       "age            177\n",
       "parch            0\n",
       "fare             0\n",
       "class            0\n",
       "embark_town      2\n",
       "alive            0\n",
       "alone            0\n",
       "dtype: int64"
      ]
     },
     "execution_count": 3,
     "metadata": {},
     "output_type": "execute_result"
    }
   ],
   "source": [
    "df.isnull().sum()"
   ]
  },
  {
   "cell_type": "markdown",
   "metadata": {},
   "source": [
    "### Preprocessing"
   ]
  },
  {
   "cell_type": "markdown",
   "metadata": {
    "ExecuteTime": {
     "end_time": "2021-07-15T03:55:14.256619Z",
     "start_time": "2021-07-15T03:55:14.205491Z"
    }
   },
   "source": [
    "Preprocessing Scheme:\n",
    "* target (y) = alive\n",
    "* SimpleImputer(most_frequent) + onehot: sex, embark_town, alone\n",
    "* ordinal: class\n",
    "* KNNImputer: age\n",
    "* RobustScaler(KNN only): age, fare"
   ]
  },
  {
   "cell_type": "code",
   "execution_count": 4,
   "metadata": {
    "ExecuteTime": {
     "end_time": "2021-07-15T06:46:08.458082Z",
     "start_time": "2021-07-15T06:46:08.292232Z"
    }
   },
   "outputs": [],
   "source": [
    "from sklearn.impute import SimpleImputer\n",
    "from sklearn.impute import KNNImputer\n",
    "from sklearn.preprocessing import OneHotEncoder\n",
    "import category_encoders as ce\n",
    "from sklearn.pipeline import Pipeline\n",
    "from sklearn.compose import ColumnTransformer\n",
    "from sklearn.preprocessing import RobustScaler"
   ]
  },
  {
   "cell_type": "markdown",
   "metadata": {},
   "source": [
    "One hot encoder pipeline and ordinal map:"
   ]
  },
  {
   "cell_type": "code",
   "execution_count": 5,
   "metadata": {
    "ExecuteTime": {
     "end_time": "2021-07-15T06:46:08.474040Z",
     "start_time": "2021-07-15T06:46:08.462072Z"
    }
   },
   "outputs": [],
   "source": [
    "onehot_pipe = Pipeline([\n",
    "    ('imputer',SimpleImputer(strategy='most_frequent')),\n",
    "    ('onehot',OneHotEncoder(drop='first'))\n",
    "])\n",
    "\n",
    "ord_map = ([\n",
    "    {'col':'class',\n",
    "    'mapping':{'First':1,'Second':2,'Third':3}}\n",
    "])"
   ]
  },
  {
   "cell_type": "markdown",
   "metadata": {},
   "source": [
    "Transformer for logistic regression and decision tree:"
   ]
  },
  {
   "cell_type": "code",
   "execution_count": 6,
   "metadata": {
    "ExecuteTime": {
     "end_time": "2021-07-15T06:46:08.489001Z",
     "start_time": "2021-07-15T06:46:08.476035Z"
    }
   },
   "outputs": [],
   "source": [
    "transformer = ColumnTransformer([\n",
    "    ('onehot',onehot_pipe,['sex','embark_town','alone']),\n",
    "    ('ordinal',ce.OrdinalEncoder(mapping=ord_map),['class']),\n",
    "    ('imputer',KNNImputer(),['age'])\n",
    "],remainder='passthrough')"
   ]
  },
  {
   "cell_type": "markdown",
   "metadata": {},
   "source": [
    "Pipeline and transformer for KNN:"
   ]
  },
  {
   "cell_type": "code",
   "execution_count": 7,
   "metadata": {
    "ExecuteTime": {
     "end_time": "2021-07-15T06:46:08.503962Z",
     "start_time": "2021-07-15T06:46:08.491992Z"
    }
   },
   "outputs": [],
   "source": [
    "imp_scale = Pipeline([\n",
    "    ('imputer',KNNImputer()),\n",
    "    ('scaler',RobustScaler())\n",
    "])\n",
    "\n",
    "transformer2 = ColumnTransformer([\n",
    "    ('onehot',onehot_pipe,['sex','embark_town','alone']),\n",
    "    ('ordinal',ce.OrdinalEncoder(mapping=ord_map),['class']),\n",
    "    ('imp_scale',imp_scale,['age','fare'])\n",
    "],remainder='passthrough')"
   ]
  },
  {
   "cell_type": "markdown",
   "metadata": {},
   "source": [
    "### Split Data"
   ]
  },
  {
   "cell_type": "code",
   "execution_count": 8,
   "metadata": {
    "ExecuteTime": {
     "end_time": "2021-07-15T06:46:08.519922Z",
     "start_time": "2021-07-15T06:46:08.507981Z"
    }
   },
   "outputs": [],
   "source": [
    "x = df.drop('alive',axis=1)\n",
    "y = np.where(df['alive']=='yes',1,0)\n",
    "\n",
    "x_train,x_test,y_train,y_test = train_test_split(x,y,stratify=y,test_size=0.2,random_state=2020)"
   ]
  },
  {
   "cell_type": "markdown",
   "metadata": {},
   "source": [
    "### Algorithm Chain"
   ]
  },
  {
   "cell_type": "markdown",
   "metadata": {},
   "source": [
    "- TP : Predicted alive and actually alive\n",
    "- TN : Predicted not alive and actually not alive\n",
    "- FP : Predicted alive but actually not alive\n",
    "- FN : Predicted not alive but actually alive\n",
    "\n",
    "We want to minimize FP, thus we will use precision metric to evaluate models."
   ]
  },
  {
   "cell_type": "code",
   "execution_count": 9,
   "metadata": {
    "ExecuteTime": {
     "end_time": "2021-07-15T06:46:08.974146Z",
     "start_time": "2021-07-15T06:46:08.522912Z"
    }
   },
   "outputs": [
    {
     "data": {
      "text/html": [
       "<div>\n",
       "<style scoped>\n",
       "    .dataframe tbody tr th:only-of-type {\n",
       "        vertical-align: middle;\n",
       "    }\n",
       "\n",
       "    .dataframe tbody tr th {\n",
       "        vertical-align: top;\n",
       "    }\n",
       "\n",
       "    .dataframe thead th {\n",
       "        text-align: right;\n",
       "    }\n",
       "</style>\n",
       "<table border=\"1\" class=\"dataframe\">\n",
       "  <thead>\n",
       "    <tr style=\"text-align: right;\">\n",
       "      <th></th>\n",
       "      <th>model</th>\n",
       "      <th>mean</th>\n",
       "      <th>std</th>\n",
       "    </tr>\n",
       "  </thead>\n",
       "  <tbody>\n",
       "    <tr>\n",
       "      <th>0</th>\n",
       "      <td>LogisticRegression(solver='liblinear')</td>\n",
       "      <td>0.756809</td>\n",
       "      <td>0.061015</td>\n",
       "    </tr>\n",
       "    <tr>\n",
       "      <th>1</th>\n",
       "      <td>DecisionTreeClassifier()</td>\n",
       "      <td>0.713640</td>\n",
       "      <td>0.049368</td>\n",
       "    </tr>\n",
       "    <tr>\n",
       "      <th>2</th>\n",
       "      <td>KNeighborsClassifier()</td>\n",
       "      <td>0.752057</td>\n",
       "      <td>0.060881</td>\n",
       "    </tr>\n",
       "  </tbody>\n",
       "</table>\n",
       "</div>"
      ],
      "text/plain": [
       "                                    model      mean       std\n",
       "0  LogisticRegression(solver='liblinear')  0.756809  0.061015\n",
       "1                DecisionTreeClassifier()  0.713640  0.049368\n",
       "2                  KNeighborsClassifier()  0.752057  0.060881"
      ]
     },
     "execution_count": 9,
     "metadata": {},
     "output_type": "execute_result"
    }
   ],
   "source": [
    "from sklearn.model_selection import StratifiedKFold, cross_val_score\n",
    "\n",
    "logreg = LogisticRegression(solver='liblinear')\n",
    "tree = DecisionTreeClassifier()\n",
    "knn = KNeighborsClassifier()\n",
    "\n",
    "models = [logreg,tree,knn]\n",
    "mean_score = []\n",
    "std_score = []\n",
    "\n",
    "for i in models:\n",
    "    skfold = StratifiedKFold(5)\n",
    "    if str(i)=='KNeighborsClassifier()':\n",
    "        estimator = Pipeline([\n",
    "            ('preprocess',transformer2),\n",
    "            ('model',i)\n",
    "        ])\n",
    "    else:\n",
    "        estimator = Pipeline([\n",
    "            ('preprocess',transformer),\n",
    "            ('model',i)\n",
    "        ])\n",
    "    cv_score = cross_val_score(estimator,x_train,y_train,cv=skfold,scoring='precision')\n",
    "    mean_score.append(cv_score.mean())\n",
    "    std_score.append(cv_score.std())\n",
    "\n",
    "pd.DataFrame({\n",
    "    'model':models,\n",
    "    'mean':mean_score,\n",
    "    'std':std_score\n",
    "})"
   ]
  },
  {
   "cell_type": "markdown",
   "metadata": {},
   "source": [
    "From the result above, LogisticRegression gives the highest precision score and also a low deviation (stable). Thus, LogisticRegression model is used."
   ]
  },
  {
   "cell_type": "markdown",
   "metadata": {},
   "source": [
    "### Hyperparameter Tuning"
   ]
  },
  {
   "cell_type": "code",
   "execution_count": 10,
   "metadata": {
    "ExecuteTime": {
     "end_time": "2021-07-15T06:46:08.989112Z",
     "start_time": "2021-07-15T06:46:08.975116Z"
    }
   },
   "outputs": [],
   "source": [
    "logreg = LogisticRegression(solver='liblinear')\n",
    "\n",
    "estimator = Pipeline([\n",
    "    ('preprocess',transformer),\n",
    "    ('model',logreg)\n",
    "])"
   ]
  },
  {
   "cell_type": "code",
   "execution_count": 11,
   "metadata": {
    "ExecuteTime": {
     "end_time": "2021-07-15T06:46:09.003950Z",
     "start_time": "2021-07-15T06:46:08.992071Z"
    }
   },
   "outputs": [],
   "source": [
    "from sklearn.model_selection import GridSearchCV"
   ]
  },
  {
   "cell_type": "code",
   "execution_count": 12,
   "metadata": {
    "ExecuteTime": {
     "end_time": "2021-07-15T06:46:09.019843Z",
     "start_time": "2021-07-15T06:46:09.006878Z"
    }
   },
   "outputs": [],
   "source": [
    "hyperparam_space = {\n",
    "    'model__C':[1000,100,10,1,0.1,0.01,0.001],\n",
    "    'model__max_iter':[1000,5000,10000],\n",
    "    'model__solver':['liblinear','lbfgs']\n",
    "}\n",
    "\n",
    "skfold = StratifiedKFold(5)\n",
    "grid_search = GridSearchCV(\n",
    "    estimator,\n",
    "    param_grid = hyperparam_space,\n",
    "    cv = skfold,\n",
    "    scoring='precision',\n",
    "    n_jobs = -1\n",
    ")"
   ]
  },
  {
   "cell_type": "code",
   "execution_count": 13,
   "metadata": {
    "ExecuteTime": {
     "end_time": "2021-07-15T06:46:15.712248Z",
     "start_time": "2021-07-15T06:46:09.020843Z"
    }
   },
   "outputs": [
    {
     "data": {
      "text/plain": [
       "GridSearchCV(cv=StratifiedKFold(n_splits=5, random_state=None, shuffle=False),\n",
       "             estimator=Pipeline(steps=[('preprocess',\n",
       "                                        ColumnTransformer(remainder='passthrough',\n",
       "                                                          transformers=[('onehot',\n",
       "                                                                         Pipeline(steps=[('imputer',\n",
       "                                                                                          SimpleImputer(strategy='most_frequent')),\n",
       "                                                                                         ('onehot',\n",
       "                                                                                          OneHotEncoder(drop='first'))]),\n",
       "                                                                         ['sex',\n",
       "                                                                          'embark_town',\n",
       "                                                                          'alone']),\n",
       "                                                                        ('ordinal',\n",
       "                                                                         OrdinalEncoder(mapping=[{'col': 'class',\n",
       "                                                                                                  'mapping': {'First': 1,\n",
       "                                                                                                              'Second': 2,\n",
       "                                                                                                              'Third': 3}}]),\n",
       "                                                                         ['class']),\n",
       "                                                                        ('imputer',\n",
       "                                                                         KNNImputer(),\n",
       "                                                                         ['age'])])),\n",
       "                                       ('model',\n",
       "                                        LogisticRegression(solver='liblinear'))]),\n",
       "             n_jobs=-1,\n",
       "             param_grid={'model__C': [1000, 100, 10, 1, 0.1, 0.01, 0.001],\n",
       "                         'model__max_iter': [1000, 5000, 10000],\n",
       "                         'model__solver': ['liblinear', 'lbfgs']},\n",
       "             scoring='precision')"
      ]
     },
     "execution_count": 13,
     "metadata": {},
     "output_type": "execute_result"
    }
   ],
   "source": [
    "grid_search.fit(x_train,y_train)"
   ]
  },
  {
   "cell_type": "markdown",
   "metadata": {},
   "source": [
    "#### Before Tuning"
   ]
  },
  {
   "cell_type": "code",
   "execution_count": 14,
   "metadata": {
    "ExecuteTime": {
     "end_time": "2021-07-15T06:46:15.726917Z",
     "start_time": "2021-07-15T06:46:15.713773Z"
    }
   },
   "outputs": [],
   "source": [
    "from sklearn.metrics import precision_score"
   ]
  },
  {
   "cell_type": "code",
   "execution_count": 15,
   "metadata": {
    "ExecuteTime": {
     "end_time": "2021-07-15T06:46:15.788701Z",
     "start_time": "2021-07-15T06:46:15.728912Z"
    }
   },
   "outputs": [
    {
     "name": "stdout",
     "output_type": "stream",
     "text": [
      "Precision=  0.7014925373134329\n"
     ]
    }
   ],
   "source": [
    "logreg = LogisticRegression(solver='liblinear')\n",
    "estimator = Pipeline([\n",
    "    ('preprocess',transformer),\n",
    "    ('model',logreg)\n",
    "])\n",
    "estimator.fit(x_train,y_train)\n",
    "y_pred = estimator.predict(x_test)\n",
    "\n",
    "print('Precision= ',precision_score(y_test,y_pred))"
   ]
  },
  {
   "cell_type": "markdown",
   "metadata": {},
   "source": [
    "#### After Tuning"
   ]
  },
  {
   "cell_type": "code",
   "execution_count": 16,
   "metadata": {
    "ExecuteTime": {
     "end_time": "2021-07-15T06:46:15.820578Z",
     "start_time": "2021-07-15T06:46:15.790658Z"
    }
   },
   "outputs": [
    {
     "name": "stdout",
     "output_type": "stream",
     "text": [
      "Precision=  0.75\n"
     ]
    }
   ],
   "source": [
    "y_pred = grid_search.best_estimator_.predict(x_test)\n",
    "\n",
    "print('Precision= ',precision_score(y_test,y_pred))"
   ]
  },
  {
   "cell_type": "code",
   "execution_count": 17,
   "metadata": {
    "ExecuteTime": {
     "end_time": "2021-07-15T06:46:15.835541Z",
     "start_time": "2021-07-15T06:46:15.823574Z"
    }
   },
   "outputs": [
    {
     "data": {
      "text/plain": [
       "{'model__C': 0.1, 'model__max_iter': 1000, 'model__solver': 'lbfgs'}"
      ]
     },
     "execution_count": 17,
     "metadata": {},
     "output_type": "execute_result"
    }
   ],
   "source": [
    "grid_search.best_params_"
   ]
  },
  {
   "cell_type": "code",
   "execution_count": null,
   "metadata": {},
   "outputs": [],
   "source": []
  }
 ],
 "metadata": {
  "kernelspec": {
   "display_name": "Python 3",
   "language": "python",
   "name": "python3"
  },
  "language_info": {
   "codemirror_mode": {
    "name": "ipython",
    "version": 3
   },
   "file_extension": ".py",
   "mimetype": "text/x-python",
   "name": "python",
   "nbconvert_exporter": "python",
   "pygments_lexer": "ipython3",
   "version": "3.8.5"
  },
  "toc": {
   "base_numbering": 1,
   "nav_menu": {},
   "number_sections": true,
   "sideBar": true,
   "skip_h1_title": false,
   "title_cell": "Table of Contents",
   "title_sidebar": "Contents",
   "toc_cell": false,
   "toc_position": {},
   "toc_section_display": true,
   "toc_window_display": false
  }
 },
 "nbformat": 4,
 "nbformat_minor": 4
}
